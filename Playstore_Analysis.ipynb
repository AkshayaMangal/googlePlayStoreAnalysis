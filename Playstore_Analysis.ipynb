{
 "cells": [
  {
   "cell_type": "code",
   "execution_count": 1,
   "id": "a0985f46-9d7c-4bfa-a580-01c85df37c34",
   "metadata": {},
   "outputs": [],
   "source": [
    "import pyspark\n",
    "from pyspark.sql import SparkSession\n",
    "from pyspark.sql.types import StructType,StructField,StringType,IntegerType\n",
    "from pyspark.sql.functions import *"
   ]
  },
  {
   "cell_type": "code",
   "execution_count": 2,
   "id": "5633812f-adc7-4dae-82f4-18f2101ef8e1",
   "metadata": {},
   "outputs": [],
   "source": [
    "spark=SparkSession.builder.appName(\"Data Analysis\").getOrCreate()"
   ]
  },
  {
   "cell_type": "code",
   "execution_count": 34,
   "id": "eeb2fd68-fce3-47eb-9002-01b07c0845ce",
   "metadata": {},
   "outputs": [],
   "source": [
    "df_playstore = spark.read.csv(\"C:/Users/ABT/Desktop/JOB_HUNT_2024/portfolio_github/RealTime/Data/googleplaystore.csv\",inferSchema=True,header=True)"
   ]
  },
  {
   "cell_type": "code",
   "execution_count": 35,
   "id": "b6b16365-84a3-4439-b212-86a7da23f596",
   "metadata": {},
   "outputs": [
    {
     "name": "stdout",
     "output_type": "stream",
     "text": [
      "root\n",
      " |-- App: string (nullable = true)\n",
      " |-- Category: string (nullable = true)\n",
      " |-- Rating: string (nullable = true)\n",
      " |-- Reviews: string (nullable = true)\n",
      " |-- Size: string (nullable = true)\n",
      " |-- Installs: string (nullable = true)\n",
      " |-- Type: string (nullable = true)\n",
      " |-- Price: string (nullable = true)\n",
      " |-- Content Rating: string (nullable = true)\n",
      " |-- Genres: string (nullable = true)\n",
      " |-- Last Updated: string (nullable = true)\n",
      " |-- Current Ver: string (nullable = true)\n",
      " |-- Android Ver: string (nullable = true)\n",
      "\n",
      "+----------------------------------------------+--------------+------+-------+----+--------+----+-----+--------------+------------+---------------+-----------+------------+\n",
      "|App                                           |Category      |Rating|Reviews|Size|Installs|Type|Price|Content Rating|Genres      |Last Updated   |Current Ver|Android Ver |\n",
      "+----------------------------------------------+--------------+------+-------+----+--------+----+-----+--------------+------------+---------------+-----------+------------+\n",
      "|Photo Editor & Candy Camera & Grid & ScrapBook|ART_AND_DESIGN|4.1   |159    |19M |10,000+ |Free|0    |Everyone      |Art & Design|January 7, 2018|1.0.0      |4.0.3 and up|\n",
      "+----------------------------------------------+--------------+------+-------+----+--------+----+-----+--------------+------------+---------------+-----------+------------+\n",
      "only showing top 1 row\n",
      "\n"
     ]
    }
   ],
   "source": [
    "df_playstore.printSchema()\n",
    "df_playstore.show(1,False)"
   ]
  },
  {
   "cell_type": "markdown",
   "id": "d40fd4b9-ec99-4cb1-aa6a-1b46f087f2b7",
   "metadata": {},
   "source": [
    "# Data Cleaning"
   ]
  },
  {
   "cell_type": "code",
   "execution_count": 36,
   "id": "3f982a1e-3b35-42f1-8ea3-d7d34a6f11f0",
   "metadata": {},
   "outputs": [],
   "source": [
    "df_playstore=df_playstore.drop(\"size\",\"Content Rating\",\"Last Updated\",\"Android Ver\",\"Current Ver\")"
   ]
  },
  {
   "cell_type": "code",
   "execution_count": 37,
   "id": "3cc08a05-83b6-40b1-88e8-b8160e680ea0",
   "metadata": {},
   "outputs": [],
   "source": [
    "df_playstore=df_playstore.withColumn(\"Reviews\",col(\"Reviews\").cast(IntegerType()))\\\n",
    "                         .withColumn(\"Installs\",regexp_replace(col(\"Installs\"),\"[^0-9]\",\"\"))\\\n",
    "                          .withColumn(\"Installs\",col(\"Installs\").cast(IntegerType()))\\\n",
    "                          .withColumn(\"Price\",regexp_replace(col(\"Price\"),\"[$]\",\"\"))\\\n",
    "                        .withColumn(\"Price\",col(\"Price\").cast(IntegerType()))\n"
   ]
  },
  {
   "cell_type": "code",
   "execution_count": 38,
   "id": "e0857dce-e01d-4d54-9b1a-2f987cfd2131",
   "metadata": {
    "scrolled": true
   },
   "outputs": [
    {
     "name": "stdout",
     "output_type": "stream",
     "text": [
      "root\n",
      " |-- App: string (nullable = true)\n",
      " |-- Category: string (nullable = true)\n",
      " |-- Rating: string (nullable = true)\n",
      " |-- Reviews: integer (nullable = true)\n",
      " |-- Installs: integer (nullable = true)\n",
      " |-- Type: string (nullable = true)\n",
      " |-- Price: integer (nullable = true)\n",
      " |-- Genres: string (nullable = true)\n",
      "\n",
      "+----------------------------------------------+--------------+------+-------+--------+----+-----+-------------------------+\n",
      "|App                                           |Category      |Rating|Reviews|Installs|Type|Price|Genres                   |\n",
      "+----------------------------------------------+--------------+------+-------+--------+----+-----+-------------------------+\n",
      "|Photo Editor & Candy Camera & Grid & ScrapBook|ART_AND_DESIGN|4.1   |159    |10000   |Free|0    |Art & Design             |\n",
      "|Coloring book moana                           |ART_AND_DESIGN|3.9   |967    |500000  |Free|0    |Art & Design;Pretend Play|\n",
      "+----------------------------------------------+--------------+------+-------+--------+----+-----+-------------------------+\n",
      "only showing top 2 rows\n",
      "\n"
     ]
    }
   ],
   "source": [
    "df_playstore.printSchema()\n",
    "df_playstore.show(2,False)"
   ]
  },
  {
   "cell_type": "code",
   "execution_count": 39,
   "id": "21a45795-2011-47f9-b5d5-362039544ccf",
   "metadata": {},
   "outputs": [],
   "source": [
    "df_playstore =df_playstore.na.drop()"
   ]
  },
  {
   "cell_type": "code",
   "execution_count": 54,
   "id": "962198f2-8a38-4a2e-ac61-baee1a539b04",
   "metadata": {},
   "outputs": [],
   "source": [
    "df_playstore = df_playstore.filter(~col(\"Type\").isin([\"NaN\"]) | ~col(\"Rating\").isin([\"NaN\"]))"
   ]
  },
  {
   "cell_type": "code",
   "execution_count": 61,
   "id": "381bf586-d84d-47e3-bdfe-1707479b896f",
   "metadata": {},
   "outputs": [],
   "source": [
    "df_playstore =df_playstore.filter(~isnan(\"Rating\"))"
   ]
  },
  {
   "cell_type": "markdown",
   "id": "6a71132f-2416-4aed-9b76-ea90cb484550",
   "metadata": {},
   "source": [
    "# Most reviewed Apps "
   ]
  },
  {
   "cell_type": "code",
   "execution_count": 55,
   "id": "b3f85b56-7c79-41e8-bb9b-a5f910589803",
   "metadata": {},
   "outputs": [],
   "source": [
    "most_reviewed=df_playstore.groupBy(\"App\").agg(sum(\"Reviews\").alias(\"TopReviews\")).orderBy(\"TopReviews\",ascending=False)"
   ]
  },
  {
   "cell_type": "code",
   "execution_count": 56,
   "id": "294dec83-9db7-4276-91d5-6a22cfa94d2a",
   "metadata": {},
   "outputs": [
    {
     "name": "stdout",
     "output_type": "stream",
     "text": [
      "+--------------------+----------+\n",
      "|                 App|TopReviews|\n",
      "+--------------------+----------+\n",
      "|           Instagram| 266241989|\n",
      "|  WhatsApp Messenger| 207348304|\n",
      "|      Clash of Clans| 179558781|\n",
      "|Messenger – Text ...| 169932272|\n",
      "|      Subway Surfers| 166331958|\n",
      "+--------------------+----------+\n",
      "only showing top 5 rows\n",
      "\n"
     ]
    }
   ],
   "source": [
    "most_reviewed.show(5)"
   ]
  },
  {
   "cell_type": "markdown",
   "id": "3c9a1df0-31ee-4c5a-8d1c-12d31fe94a7b",
   "metadata": {},
   "source": [
    "# Top Downloaded Apps"
   ]
  },
  {
   "cell_type": "code",
   "execution_count": 57,
   "id": "d6ff9fdf-a41a-40e3-9385-f8f0babd5bda",
   "metadata": {},
   "outputs": [],
   "source": [
    "top_downloads=df_playstore.groupBy(\"Type\").agg(max(\"Installs\").alias(\"Max_installs\")).orderBy(\"Max_installs\",ascending=False)"
   ]
  },
  {
   "cell_type": "code",
   "execution_count": 58,
   "id": "113a3c5e-ce73-4522-b64b-51ce3823ad36",
   "metadata": {},
   "outputs": [
    {
     "name": "stdout",
     "output_type": "stream",
     "text": [
      "+----+------------+\n",
      "|Type|Max_installs|\n",
      "+----+------------+\n",
      "|Free|  1000000000|\n",
      "|Paid|    10000000|\n",
      "+----+------------+\n",
      "\n"
     ]
    }
   ],
   "source": [
    "top_downloads.show()"
   ]
  },
  {
   "cell_type": "markdown",
   "id": "054ed06b-30ca-403d-80d9-b2f952d0a47f",
   "metadata": {},
   "source": [
    "# Top Rated Apps"
   ]
  },
  {
   "cell_type": "code",
   "execution_count": 66,
   "id": "fbecdbda-52bf-4f1b-9753-4d570b541e37",
   "metadata": {},
   "outputs": [],
   "source": [
    "top_rated_apps=df_playstore.groupBy(\"Type\",\"App\").agg(max(\"Rating\").alias(\"highest_ratings\")).orderBy(\"highest_ratings\",ascending=False)"
   ]
  },
  {
   "cell_type": "code",
   "execution_count": 68,
   "id": "918f970b-3966-43b3-865d-65798efa08ea",
   "metadata": {},
   "outputs": [
    {
     "name": "stdout",
     "output_type": "stream",
     "text": [
      "+----+--------------------+---------------+\n",
      "|Type|                 App|highest_ratings|\n",
      "+----+--------------------+---------------+\n",
      "|Free|          AJ RETAILS|            5.0|\n",
      "|Free|           AP® Guide|            5.0|\n",
      "|Free|420 BZ Budeze Del...|            5.0|\n",
      "|Free|       AQ Ria Retail|            5.0|\n",
      "|Free|      A-Y Collection|            5.0|\n",
      "|Free|Accounting Quiz (...|            5.0|\n",
      "|Free|              AJ Cam|            5.0|\n",
      "|Free|Ag Valley Coopera...|            5.0|\n",
      "|Free|Anatomy & Physiol...|            5.0|\n",
      "|Free|American Girls Mo...|            5.0|\n",
      "+----+--------------------+---------------+\n",
      "only showing top 10 rows\n",
      "\n"
     ]
    }
   ],
   "source": [
    "top_rated_apps.show(10)"
   ]
  },
  {
   "cell_type": "markdown",
   "id": "449dc701-5407-4f65-a6de-53daede53d2f",
   "metadata": {},
   "source": [
    "# Category Preference Analysis"
   ]
  },
  {
   "cell_type": "code",
   "execution_count": 80,
   "id": "30f0c837-209d-4c58-be47-06decfce5bbd",
   "metadata": {},
   "outputs": [],
   "source": [
    "category_pref=df_playstore.groupBy(\"Category\").agg(count(\"Installs\").alias(\"num_installs\"),avg(\"Rating\").alias(\"avg_rating\")).orderBy(\"num_installs\",acending=True)"
   ]
  },
  {
   "cell_type": "code",
   "execution_count": 82,
   "id": "abdb695e-cd50-4ff1-8ccc-47793eb36ae8",
   "metadata": {},
   "outputs": [
    {
     "name": "stdout",
     "output_type": "stream",
     "text": [
      "+---------+------------+-----------------+\n",
      "| Category|num_installs|       avg_rating|\n",
      "+---------+------------+-----------------+\n",
      "|   BEAUTY|          42|4.278571428571428|\n",
      "|   EVENTS|          45|4.435555555555557|\n",
      "|PARENTING|          50|4.300000000000001|\n",
      "|   COMICS|          58|4.155172413793104|\n",
      "+---------+------------+-----------------+\n",
      "only showing top 4 rows\n",
      "\n"
     ]
    }
   ],
   "source": [
    "category_pref.show(4)"
   ]
  },
  {
   "cell_type": "markdown",
   "id": "6b65dcaa-469f-4288-9ccf-3c1edcdc55a8",
   "metadata": {},
   "source": [
    "# Genre Exploration with Filtering"
   ]
  },
  {
   "cell_type": "code",
   "execution_count": 92,
   "id": "dbe17f7b-c1fe-4e3b-b778-064ab559921d",
   "metadata": {},
   "outputs": [],
   "source": [
    "#split the genres column to create a new column \"Genre\"\n",
    "df_genre=df_playstore.withColumn(\"Genre\",split(col(\"Genres\"),';').getItem(0))"
   ]
  },
  {
   "cell_type": "code",
   "execution_count": 93,
   "id": "1266e807-4925-43e8-930c-1cc3ce8dde89",
   "metadata": {},
   "outputs": [],
   "source": [
    "# Filter out genres with fewer than a certain number of apps (e.g., 10)\n",
    "min_apps_per_genre=10\n",
    "filtered_genres = df_genre.groupBy(\"Genre\").agg(count(\"*\").alias(\"num_apps\")).filter(col(\"num_apps\") >= min_apps_per_genre)"
   ]
  },
  {
   "cell_type": "code",
   "execution_count": 95,
   "id": "5864d673-f3d0-4dcf-a694-5ffc5be4b111",
   "metadata": {},
   "outputs": [
    {
     "name": "stdout",
     "output_type": "stream",
     "text": [
      "+---------------+--------+\n",
      "|          Genre|num_apps|\n",
      "+---------------+--------+\n",
      "|      Education|     563|\n",
      "|         Trivia|      28|\n",
      "|Auto & Vehicles|      73|\n",
      "|  Entertainment|     577|\n",
      "|      Adventure|      89|\n",
      "|         Arcade|     223|\n",
      "|         Sports|     337|\n",
      "| Travel & Local|     226|\n",
      "|   Food & Drink|     109|\n",
      "|   Role Playing|     119|\n",
      "+---------------+--------+\n",
      "only showing top 10 rows\n",
      "\n"
     ]
    }
   ],
   "source": [
    "filtered_genres.show(10)"
   ]
  },
  {
   "cell_type": "code",
   "execution_count": 97,
   "id": "fa3c2312-3ce1-4a24-91dc-20cf6d4d726f",
   "metadata": {},
   "outputs": [],
   "source": [
    "# Calculate the number of installs and average rating per genre\n",
    "genre_exploration = df_genre.groupBy(\"Genre\").agg(\n",
    "    count(\"Installs\").alias(\"num_installs\"),\n",
    "    avg(\"Rating\").alias(\"avg_rating\")\n",
    ")"
   ]
  },
  {
   "cell_type": "code",
   "execution_count": 99,
   "id": "98011775-cdcf-4d9f-a867-44efc72bb47a",
   "metadata": {},
   "outputs": [
    {
     "name": "stdout",
     "output_type": "stream",
     "text": [
      "+---------------+------------+------------------+\n",
      "|          Genre|num_installs|        avg_rating|\n",
      "+---------------+------------+------------------+\n",
      "|  Music & Audio|           1|               4.3|\n",
      "|      Education|         563| 4.312433392539962|\n",
      "|         Trivia|          28| 4.039285714285714|\n",
      "|Auto & Vehicles|          73|  4.19041095890411|\n",
      "|  Entertainment|         577| 4.101386481802426|\n",
      "|      Adventure|          89| 4.219101123595506|\n",
      "|         Arcade|         223| 4.308071748878922|\n",
      "|         Sports|         337| 4.237982195845699|\n",
      "| Travel & Local|         226|  4.10929203539823|\n",
      "|   Food & Drink|         109|4.1669724770642205|\n",
      "+---------------+------------+------------------+\n",
      "only showing top 10 rows\n",
      "\n"
     ]
    }
   ],
   "source": [
    "genre_exploration.show(10)"
   ]
  },
  {
   "cell_type": "markdown",
   "id": "ed3b13d4-db09-4cc7-a563-b4f995c0dc9e",
   "metadata": {},
   "source": [
    "# Free vs. Paid App Performance"
   ]
  },
  {
   "cell_type": "code",
   "execution_count": 102,
   "id": "659b0fdb-7d6f-49ab-b1c4-66e0e79f5a37",
   "metadata": {},
   "outputs": [],
   "source": [
    "# Filter free and paid apps separately\n",
    "free_apps = df_playstore.filter(df_playstore[\"Type\"] == \"Free\")\n",
    "paid_apps =df_playstore.filter(df_playstore[\"Type\"] == \"Paid\")"
   ]
  },
  {
   "cell_type": "code",
   "execution_count": 107,
   "id": "918ed72a-bc5c-4ab7-afb6-62737a91c54b",
   "metadata": {},
   "outputs": [
    {
     "name": "stdout",
     "output_type": "stream",
     "text": [
      "+-----------------+\n",
      "|  avg_free_rating|\n",
      "+-----------------+\n",
      "|4.186176436847552|\n",
      "+-----------------+\n",
      "\n",
      "+-----------------+\n",
      "|num_installs_free|\n",
      "+-----------------+\n",
      "|             8717|\n",
      "+-----------------+\n",
      "\n"
     ]
    }
   ],
   "source": [
    "# Calculate average rating and number of installs for free apps\n",
    "avg_free_rating=free_apps.agg(avg(\"Rating\").alias(\"avg_free_rating\"))\n",
    "num_installs_free=free_apps.agg(count(\"Installs\").alias(\"num_installs_free\"))    \n",
    "avg_free_rating.show()\n",
    "num_installs_free.show()"
   ]
  },
  {
   "cell_type": "code",
   "execution_count": 108,
   "id": "b8c8e845-b418-42de-a895-1e423af5db00",
   "metadata": {},
   "outputs": [
    {
     "name": "stdout",
     "output_type": "stream",
     "text": [
      "+-----------------+\n",
      "|  avg_paid_rating|\n",
      "+-----------------+\n",
      "|4.266615146831529|\n",
      "+-----------------+\n",
      "\n",
      "+-----------------+\n",
      "|num_installs_paid|\n",
      "+-----------------+\n",
      "|              647|\n",
      "+-----------------+\n",
      "\n"
     ]
    }
   ],
   "source": [
    "# Calculate average rating and number of installs for paid apps\n",
    "avg_paid_rating=paid_apps.agg(avg(\"Rating\").alias(\"avg_paid_rating\"))\n",
    "num_installs_paid=paid_apps.agg(count(\"Installs\").alias(\"num_installs_paid\"))  \n",
    "avg_paid_rating.show()\n",
    "num_installs_paid.show()"
   ]
  },
  {
   "cell_type": "markdown",
   "id": "05a355d9-b64a-4742-b663-1dda40bcf19c",
   "metadata": {},
   "source": [
    " # Top Categories with High Engagement"
   ]
  },
  {
   "cell_type": "code",
   "execution_count": 109,
   "id": "2db7f671-acde-463d-b153-0ccf984e9f00",
   "metadata": {},
   "outputs": [],
   "source": [
    "# Group by category and calculate average rating and number of installs\n",
    "category_engagement = df_playstore.groupBy(\"Category\").agg(\n",
    "    avg(\"Rating\").alias(\"avg_rating\"),\n",
    "    count(\"Installs\").alias(\"num_installs\")\n",
    ")"
   ]
  },
  {
   "cell_type": "code",
   "execution_count": 113,
   "id": "4c8038e9-2dc2-4d6f-82f4-0156da88cad3",
   "metadata": {},
   "outputs": [],
   "source": [
    "# Filter out categories with low engagement (e.g., less than 10000 installs)\n",
    "min_installs_threshold = 1000\n",
    "top_categories = category_engagement.filter(category_engagement[\"num_installs\"] >= min_installs_threshold)"
   ]
  },
  {
   "cell_type": "code",
   "execution_count": 114,
   "id": "b4162449-9f4b-40b5-9e81-284a2fcbfcc9",
   "metadata": {},
   "outputs": [
    {
     "name": "stdout",
     "output_type": "stream",
     "text": [
      "+--------+------------------+------------+\n",
      "|Category|        avg_rating|num_installs|\n",
      "+--------+------------------+------------+\n",
      "|    GAME|4.2863263445761195|        1097|\n",
      "|  FAMILY| 4.192272467086437|        1747|\n",
      "+--------+------------------+------------+\n",
      "\n"
     ]
    }
   ],
   "source": [
    "# Sort the top categories by average rating and number of installs\n",
    "top_categories = top_categories.orderBy([\"avg_rating\", \"num_installs\"], ascending=[False, False])\n",
    "top_categories.show()"
   ]
  }
 ],
 "metadata": {
  "kernelspec": {
   "display_name": "Python 3 (ipykernel)",
   "language": "python",
   "name": "python3"
  },
  "language_info": {
   "codemirror_mode": {
    "name": "ipython",
    "version": 3
   },
   "file_extension": ".py",
   "mimetype": "text/x-python",
   "name": "python",
   "nbconvert_exporter": "python",
   "pygments_lexer": "ipython3",
   "version": "3.9.18"
  }
 },
 "nbformat": 4,
 "nbformat_minor": 5
}
